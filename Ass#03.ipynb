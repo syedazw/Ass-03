{
 "cells": [
  {
   "cell_type": "markdown",
   "id": "f61c3ee9-c6d7-46d4-9150-1c03329826e1",
   "metadata": {},
   "source": [
    "# 1"
   ]
  },
  {
   "cell_type": "code",
   "execution_count": 10,
   "id": "0f2fc2e9-7f51-4e55-a683-e1b869041988",
   "metadata": {},
   "outputs": [
    {
     "name": "stdout",
     "output_type": "stream",
     "text": [
      "Twinkle, twinkle, little star,\n",
      "\tHow I wonder what you are!\n",
      "\t\tUp above the world so high,\n",
      "\t\tLike a diamond in the sky.\n",
      "Twinkle, twinkle, little star,\n",
      "\tHow I wonder what you are\n"
     ]
    }
   ],
   "source": [
    "print(\"Twinkle, twinkle, little star,\\n\\tHow I wonder what you are!\\n\\t\\tUp above the world so high,\\n\\t\\tLike a diamond in the sky.\\nTwinkle, twinkle, little star,\\n\\tHow I wonder what you are\")"
   ]
  },
  {
   "cell_type": "markdown",
   "id": "4488ab80-b32e-4f78-9fe4-ed460d97d47d",
   "metadata": {},
   "source": [
    "# 2"
   ]
  },
  {
   "cell_type": "code",
   "execution_count": 11,
   "id": "8dd62798-9b66-4510-a918-4b1c4086ef1f",
   "metadata": {},
   "outputs": [
    {
     "name": "stdout",
     "output_type": "stream",
     "text": [
      "3.11.7 | packaged by Anaconda, Inc. | (main, Dec 15 2023, 18:05:47) [MSC v.1916 64 bit (AMD64)]\n"
     ]
    }
   ],
   "source": [
    "import sys\n",
    "print(sys.version)"
   ]
  },
  {
   "cell_type": "markdown",
   "id": "338fd610-dca2-4783-b756-01cbc142b295",
   "metadata": {},
   "source": [
    "# 3"
   ]
  },
  {
   "cell_type": "code",
   "execution_count": 14,
   "id": "964ee443-986b-42e5-8e35-2e5aee5e12fa",
   "metadata": {},
   "outputs": [
    {
     "name": "stdout",
     "output_type": "stream",
     "text": [
      "2024-08-03 00:21:51.624741\n"
     ]
    }
   ],
   "source": [
    "import datetime\n",
    "\n",
    "current_date_time = datetime.datetime.now()\n",
    "print(current_date_time)"
   ]
  },
  {
   "cell_type": "markdown",
   "id": "70fdbd20-c903-4c06-aee6-cff42ad91c13",
   "metadata": {},
   "source": [
    "# 4"
   ]
  },
  {
   "cell_type": "code",
   "execution_count": 15,
   "id": "56be1121-f7e1-40e6-a24d-f95043712516",
   "metadata": {},
   "outputs": [
    {
     "name": "stdin",
     "output_type": "stream",
     "text": [
      "Enter the radius of the circle:  12.5\n"
     ]
    },
    {
     "name": "stdout",
     "output_type": "stream",
     "text": [
      "The area of the circle with radius is:  490.8738521234052\n"
     ]
    }
   ],
   "source": [
    "import math\n",
    "\n",
    "radius = float(input(\"Enter the radius of the circle: \"))\n",
    "area = math.pi * radius**2\n",
    "print(\"The area of the circle with radius is: \", area)"
   ]
  },
  {
   "cell_type": "markdown",
   "id": "2598c5da-34cf-45a4-924c-906438331b76",
   "metadata": {},
   "source": [
    "# 5"
   ]
  },
  {
   "cell_type": "code",
   "execution_count": 16,
   "id": "e238ac24-b271-4595-a432-29f099dcbb81",
   "metadata": {},
   "outputs": [
    {
     "name": "stdin",
     "output_type": "stream",
     "text": [
      "Enter your First Name:  Syeda\n",
      "Enter your Last Name:  Zainab\n"
     ]
    },
    {
     "name": "stdout",
     "output_type": "stream",
     "text": [
      "Zainab Syeda\n"
     ]
    }
   ],
   "source": [
    "first_name = input(\"Enter your First Name: \")\n",
    "last_name = input(\"Enter your Last Name: \")\n",
    "\n",
    "print(f\"{last_name} {first_name}\")"
   ]
  },
  {
   "cell_type": "markdown",
   "id": "db6cc5ef-cbb2-4c8a-8de3-12ee73422257",
   "metadata": {},
   "source": [
    "# 6"
   ]
  },
  {
   "cell_type": "code",
   "execution_count": 21,
   "id": "11b30c55-c489-49d2-afab-5e1798782abf",
   "metadata": {},
   "outputs": [
    {
     "name": "stdin",
     "output_type": "stream",
     "text": [
      "Enter number 12\n",
      "Enter number 2\n"
     ]
    },
    {
     "name": "stdout",
     "output_type": "stream",
     "text": [
      "14\n"
     ]
    }
   ],
   "source": [
    "first_num = int(input(\"Enter number\"))\n",
    "scnd_num = int(input(\"Enter number\"))\n",
    "\n",
    "print(first_num + scnd_num)"
   ]
  },
  {
   "cell_type": "markdown",
   "id": "6db2f455-f9b6-452f-810e-6dc59a95b7c0",
   "metadata": {},
   "source": [
    "# 7 "
   ]
  },
  {
   "cell_type": "code",
   "execution_count": 24,
   "id": "41c944c7-3b5e-4808-bbc4-5a76b4cd2e5e",
   "metadata": {},
   "outputs": [
    {
     "name": "stdin",
     "output_type": "stream",
     "text": [
      "Enter marks for subject 1:  12\n",
      "Enter marks for subject 2:  20\n",
      "Enter marks for subject 3:  30\n",
      "Enter marks for subject 4:  40\n",
      "Enter marks for subject 5:  52\n"
     ]
    },
    {
     "name": "stdout",
     "output_type": "stream",
     "text": [
      "\n",
      "Mark Sheet\n",
      "------------------------\n",
      "Total Marks: 154.0\n",
      "Average Marks: 30.80\n",
      "Grade: D\n"
     ]
    }
   ],
   "source": [
    "marks = []\n",
    "for i in range(1, 6):\n",
    "    mark = float(input(f\"Enter marks for subject {i}: \"))\n",
    "    marks.append(mark)\n",
    "\n",
    "total_marks = sum(marks)\n",
    "average_marks = total_marks / 5\n",
    "\n",
    "# Determine grade based on average marks\n",
    "if average_marks >= 90:\n",
    "    grade = 'A+'\n",
    "elif average_marks >= 80:\n",
    "    grade = 'A'\n",
    "elif average_marks >= 70:\n",
    "    grade = 'B'\n",
    "elif average_marks >= 60:\n",
    "    grade = 'C'\n",
    "else:\n",
    "    grade = 'D'\n",
    "\n",
    "# Generate mark sheet\n",
    "print(\"\\nMark Sheet\")\n",
    "print(\"------------------------\")\n",
    "print(\"Total Marks: \",total_marks)\n",
    "print(f\"Average Marks: {average_marks:.2f}\")\n",
    "print(\"Grade: \", grade)"
   ]
  },
  {
   "cell_type": "markdown",
   "id": "20c9993a-31a2-4bfd-8639-f466a00b1a23",
   "metadata": {},
   "source": [
    "# 8"
   ]
  },
  {
   "cell_type": "code",
   "execution_count": 25,
   "id": "117bb9d4-0098-46b3-8382-bc2bec43fd17",
   "metadata": {},
   "outputs": [
    {
     "name": "stdin",
     "output_type": "stream",
     "text": [
      "Enter a number:  5\n"
     ]
    },
    {
     "name": "stdout",
     "output_type": "stream",
     "text": [
      "5 is Odd\n"
     ]
    }
   ],
   "source": [
    "number = int(input(\"Enter a number: \"))\n",
    "if (number % 2) == 0:\n",
    "   print(\"{0} is Even\".format(number))\n",
    "else:\n",
    "   print(\"{0} is Odd\".format(number))"
   ]
  },
  {
   "cell_type": "markdown",
   "id": "a363ec86-360e-40e2-92c2-1127ce93d4f7",
   "metadata": {},
   "source": [
    "# 9"
   ]
  },
  {
   "cell_type": "code",
   "execution_count": 27,
   "id": "b6ce76ac-5fe4-4758-b0d2-7fd64f924a10",
   "metadata": {},
   "outputs": [
    {
     "name": "stdout",
     "output_type": "stream",
     "text": [
      "Length of the list is:  3\n"
     ]
    }
   ],
   "source": [
    "list = [10, 20, 30]\n",
    "length = len(list)\n",
    "print(\"Length of the list is: \", length)"
   ]
  },
  {
   "cell_type": "markdown",
   "id": "617d1c89-bef8-4d0b-8306-b35c9832a522",
   "metadata": {},
   "source": [
    "# 10"
   ]
  },
  {
   "cell_type": "code",
   "execution_count": 29,
   "id": "4ee80ea0-eb4d-4a99-8f5c-252e2cbd9e6f",
   "metadata": {},
   "outputs": [
    {
     "name": "stdout",
     "output_type": "stream",
     "text": [
      "-5\n"
     ]
    }
   ],
   "source": [
    "sum_list = [1, 2, -8]\n",
    "sum_numbers = 0\n",
    "for x in sum_list:\n",
    "    sum_numbers += x\n",
    "\n",
    "print(sum_numbers)"
   ]
  },
  {
   "cell_type": "markdown",
   "id": "323c9612-b8cb-4e4a-b5c7-55f6d3fddb19",
   "metadata": {},
   "source": [
    "# 11"
   ]
  },
  {
   "cell_type": "code",
   "execution_count": 30,
   "id": "8968ac3f-10d8-4fe5-b75a-3b4f6ad69c7c",
   "metadata": {},
   "outputs": [
    {
     "name": "stdout",
     "output_type": "stream",
     "text": [
      "2\n"
     ]
    }
   ],
   "source": [
    "list = [1, 2, -8]\n",
    "print(max(list))"
   ]
  },
  {
   "cell_type": "markdown",
   "id": "43d3f2e1-e3d0-4f91-b4df-0cad604ade07",
   "metadata": {},
   "source": [
    "# 12"
   ]
  },
  {
   "cell_type": "code",
   "execution_count": 32,
   "id": "5ba61e1d-8404-4d89-98ca-06ffd7c74c71",
   "metadata": {},
   "outputs": [
    {
     "name": "stdout",
     "output_type": "stream",
     "text": [
      "Elements less than 5 is given below:\n",
      "1\n",
      "1\n",
      "2\n",
      "3\n"
     ]
    }
   ],
   "source": [
    "a = [1, 1, 2, 3, 5, 8, 13, 21, 34, 55, 89]\n",
    "\n",
    "print(\"Elements less than 5 is given below:\")\n",
    "for element in a:\n",
    "    if element < 5:\n",
    "        print(element)"
   ]
  },
  {
   "cell_type": "code",
   "execution_count": null,
   "id": "1a0f7714-2658-4754-9df8-7803466c3ce4",
   "metadata": {},
   "outputs": [],
   "source": []
  }
 ],
 "metadata": {
  "kernelspec": {
   "display_name": "Python 3 (ipykernel)",
   "language": "python",
   "name": "python3"
  },
  "language_info": {
   "codemirror_mode": {
    "name": "ipython",
    "version": 3
   },
   "file_extension": ".py",
   "mimetype": "text/x-python",
   "name": "python",
   "nbconvert_exporter": "python",
   "pygments_lexer": "ipython3",
   "version": "3.11.7"
  }
 },
 "nbformat": 4,
 "nbformat_minor": 5
}
